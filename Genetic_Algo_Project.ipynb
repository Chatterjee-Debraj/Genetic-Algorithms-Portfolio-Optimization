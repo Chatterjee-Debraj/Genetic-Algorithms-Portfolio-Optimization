{
  "nbformat": 4,
  "nbformat_minor": 0,
  "metadata": {
    "colab": {
      "name": "Genetic Algo Project.ipynb",
      "provenance": [],
      "collapsed_sections": [],
      "authorship_tag": "ABX9TyNH/KfLL72/XCOVjzU7jC75",
      "include_colab_link": true
    },
    "kernelspec": {
      "display_name": "Python 3",
      "name": "python3"
    },
    "language_info": {
      "name": "python"
    }
  },
  "cells": [
    {
      "cell_type": "markdown",
      "metadata": {
        "id": "view-in-github",
        "colab_type": "text"
      },
      "source": [
        "<a href=\"https://colab.research.google.com/github/Chatterjee-Debraj/Genetic-Algorithms-Portfolio-Optimization/blob/main/Genetic_Algo_Project.ipynb\" target=\"_parent\"><img src=\"https://colab.research.google.com/assets/colab-badge.svg\" alt=\"Open In Colab\"/></a>"
      ]
    },
    {
      "cell_type": "markdown",
      "metadata": {
        "id": "JmwVL2E58KuR"
      },
      "source": [
        "# Genetic Algorithms in Engineering Process Modeling (MT21104)\n",
        "***Term Project - \"Portfolio Optimization using Genetic Algorithms\"***\n",
        "\n",
        "Debraj Chatterjee - 19IM10039 "
      ]
    },
    {
      "cell_type": "markdown",
      "metadata": {
        "id": "5tBcTmxJ8fVC"
      },
      "source": [
        "**Problem Statement -** \n",
        "\n",
        "1) Creating a portfolio allocation of different assets so as to minimize the risk of the total portfolio. Hence, creating a **\"minimum variance portfolio\"** of different assets, using genetic algorithms (Differential Evolution). \n",
        "\n",
        "**[Single objective optimization problem]**\n"
      ]
    },
    {
      "cell_type": "markdown",
      "metadata": {
        "id": "r0enLEaaYj85"
      },
      "source": [
        "Importing the necessary libraries"
      ]
    },
    {
      "cell_type": "code",
      "metadata": {
        "id": "p61YkfDIYihh"
      },
      "source": [
        "import random\n",
        "import numpy as np"
      ],
      "execution_count": null,
      "outputs": []
    },
    {
      "cell_type": "markdown",
      "metadata": {
        "id": "rUxxZoB5YOmT"
      },
      "source": [
        "### Creating the model for the problem and all terms relevant to portfolio management"
      ]
    },
    {
      "cell_type": "code",
      "metadata": {
        "colab": {
          "base_uri": "https://localhost:8080/"
        },
        "id": "vNCK3xxX98U8",
        "outputId": "9cfe1834-051b-467c-d931-6c0a211c358f"
      },
      "source": [
        "#Initialization\n",
        "No_of_Assets = int(input(\"Enter the number of assets for portfolio consideration : \")) #Number of assets for portfolio consideration\n",
        "Asset_list = []\n",
        "for i in range(1,No_of_Assets+1):\n",
        "  Asset_list.append(input(\"Enter Asset \"+str(i)+\" : \"))   #List of Names of Assets\n",
        "\n",
        "list_of_Assets = Asset_list   #Defining this list because the original list will be converted to a class and addresses are getting printed for inputs.\n",
        "\n",
        "\n"
      ],
      "execution_count": null,
      "outputs": [
        {
          "output_type": "stream",
          "text": [
            "Enter the number of assets for portfolio consideration : 3\n",
            "Enter Asset 1 : Stocks\n",
            "Enter Asset 2 : Gold\n",
            "Enter Asset 3 : Silver\n"
          ],
          "name": "stdout"
        }
      ]
    },
    {
      "cell_type": "markdown",
      "metadata": {
        "id": "lFtvqijeBHMD"
      },
      "source": [
        "Defining an empty class for an \"asset\" that will later have various attributes such as annualized returns, and variance (risk)"
      ]
    },
    {
      "cell_type": "code",
      "metadata": {
        "id": "CsTZMxiYBUqh"
      },
      "source": [
        "class Asset:\n",
        "  pass"
      ],
      "execution_count": null,
      "outputs": []
    },
    {
      "cell_type": "markdown",
      "metadata": {
        "id": "CEEKPDASKx1h"
      },
      "source": [
        "Functions for finding the variance of an asset and covariance of two assets\n",
        "\n",
        "\n"
      ]
    },
    {
      "cell_type": "code",
      "metadata": {
        "id": "rZ3M8btrK2QG"
      },
      "source": [
        "def variance(x,mean_return):      #This calculates the variance of an asset x based upon the input returns data\n",
        "  array = np.array(x)\n",
        "  array = array - mean_return     #Variance = E((r_i - E(r_i))^2)\n",
        "  array = np.square(array)\n",
        "  return sum(array)/len(array)      #Here considering all probabilities as equally likely, so expectation is simply the mean (average)\n",
        "\n",
        "def covariance(i,j,mean_return_i,mean_return_j):    #This calculates the covariance of two assets i and j based upon the input returns of both\n",
        "  asset_i = np.array(i)\n",
        "  asset_j = np.array(j)\n",
        "  asset_i = asset_i - mean_return_i     \n",
        "  asset_j = asset_j - mean_return_j\n",
        "  exp_sum = sum(np.multiply(asset_i,asset_j))     #Covariance = E[(r_i - mean r_i)) * (r_j - mean r_j))]\n",
        "  return exp_sum/len(asset_i)     #Here considering all probabilities as equally likely, so expectation is simply the mean (average)\n",
        "\n"
      ],
      "execution_count": null,
      "outputs": []
    },
    {
      "cell_type": "markdown",
      "metadata": {
        "id": "fonOz4QYB4qU"
      },
      "source": [
        "Defining the different assets that we have as the class \"Asset\", and defining the mean returns and variances of each over the past years. "
      ]
    },
    {
      "cell_type": "code",
      "metadata": {
        "colab": {
          "base_uri": "https://localhost:8080/"
        },
        "id": "iE96acVcCKi5",
        "outputId": "20d96983-2afb-4d03-9152-4738da947bd8"
      },
      "source": [
        "No_of_years = int(input(\"Enter the number of years of past data to be studied : \"))                  #Number of years of past data being studied\n",
        "for i in range(0,No_of_Assets):\n",
        "  Asset_name = list_of_Assets[i]    #This Asset_name does not become a part of the class and thus useful for not getting addresses in inputs\n",
        "  returns_list = []     #This list will store the returns of each year of an asset\n",
        " \n",
        "  for years in range(0,No_of_years):\n",
        "  \n",
        "    returns_list.append((float(input(\"Enter the annual % returns of \" + str(2020-No_of_years+years+1) + \" of \" + list_of_Assets[i] + \": \")))/100)   #Taking input of each year's returns for an  asset\n",
        "\n",
        "\n",
        "  Asset_returns = returns_list  #An extra list created which does not become part of the class \"Asset\" else data type getting changed while repeating in the same runtime and causing problems\n",
        "  Asset_list[i] = Asset()     #Each asset is defined to be an object of the defined type \"Asset\"\n",
        "  Asset_list[i].name = Asset_name\n",
        "  Asset_list[i].returns = Asset_returns\n",
        "\n",
        "  Asset_list[i].avg_return = sum(Asset_list[i].returns)/len(Asset_list[i].returns)    #Return expectation of the asset based on the input data\n",
        "  Asset_list[i].avg_risk = variance(Asset_list[i].returns,Asset_list[i].avg_return)   #Variance or expected risk of the asset based on the input data\n",
        "\n",
        " \n",
        "\n",
        "  "
      ],
      "execution_count": null,
      "outputs": [
        {
          "output_type": "stream",
          "text": [
            "Enter the number of years of past data to be studied : 3\n",
            "Enter the annual % returns of 2018 of Stocks: 30\n",
            "Enter the annual % returns of 2019 of Stocks: 20\n",
            "Enter the annual % returns of 2020 of Stocks: 25\n",
            "Enter the annual % returns of 2018 of Gold: 5\n",
            "Enter the annual % returns of 2019 of Gold: 9\n",
            "Enter the annual % returns of 2020 of Gold: 7\n",
            "Enter the annual % returns of 2018 of Silver: 18.4\n",
            "Enter the annual % returns of 2019 of Silver: 3.1\n",
            "Enter the annual % returns of 2020 of Silver: 7\n"
          ],
          "name": "stdout"
        }
      ]
    },
    {
      "cell_type": "code",
      "metadata": {
        "id": "B06NPzJ8D06j"
      },
      "source": [
        "variances = []                    #This list will contain the expected variance of each asset in the portfolio\n",
        "for i in range(0, No_of_Assets):\n",
        "  variances.append(variance(Asset_list[i].returns,Asset_list[i].avg_return))    #Calculating the variance of each asset using \"variance\" function and storing in list\n",
        "\n",
        "variances = np.array(variances)\n",
        "standard_deviations = np.sqrt(variances)    #standard deviations of the portfolio are square roots of the variances\n"
      ],
      "execution_count": null,
      "outputs": []
    },
    {
      "cell_type": "markdown",
      "metadata": {
        "id": "qX3LvVaxq-RU"
      },
      "source": [
        "Defining the class 'Portfolio'"
      ]
    },
    {
      "cell_type": "code",
      "metadata": {
        "id": "dRaVyefRrCew"
      },
      "source": [
        "class Portfolio:\n",
        "  pass"
      ],
      "execution_count": null,
      "outputs": []
    },
    {
      "cell_type": "markdown",
      "metadata": {
        "id": "nOCnv3UyPQWX"
      },
      "source": [
        "Defining a portfolio contents list which will contain the weights of each asset (the decision variables), and randomly assigning weights to the assets."
      ]
    },
    {
      "cell_type": "code",
      "metadata": {
        "id": "lyNbEGFX8eYZ"
      },
      "source": [
        "def portfolio_builder(No_of_Assets):      #Function to randomly assign weights to a portfolio\n",
        "\n",
        "  portfolio_contents = []             #Empty list where the weights will be added\n",
        "  for i in range(0,No_of_Assets-1):\n",
        "    Asset_list[i].weight = (random.uniform(0,1-sum(portfolio_contents)))    #1-sum(portfolio_contents) because total sum of the weights should be 1\n",
        "    portfolio_contents.append(Asset_list[i].weight)\n",
        "  Asset_list[No_of_Assets-1].weight = (1-sum(portfolio_contents))\n",
        "  portfolio_contents.append(Asset_list[No_of_Assets-1].weight)        #Final weight is given as the difference between 1 and sum of all previous weights because sum has to be 1\n",
        "\n",
        "  return portfolio_contents   #Returns list of weights\n"
      ],
      "execution_count": null,
      "outputs": []
    },
    {
      "cell_type": "markdown",
      "metadata": {
        "id": "KPaPjcUMYcaT"
      },
      "source": [
        "# Developing common terms related to Genetic Algorithms"
      ]
    },
    {
      "cell_type": "markdown",
      "metadata": {
        "id": "fF_Ds_8lZX1f"
      },
      "source": [
        "Now we define a function to find the risk of a portfolio candidate\n",
        "\n",
        "The risk will be given by the formula ![Portfolio Risk Formula.PNG](data:image/png;base64,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)"
      ]
    },
    {
      "cell_type": "code",
      "metadata": {
        "id": "qlSOEm3uwXJM"
      },
      "source": [
        "def portfolio_risk(x):          #Function that will calculate the total risk of a portfolio candidate x\n",
        "  \n",
        "  weights = np.array(x.contents)      #Array of weights of assets in the portfolio\n",
        "  \n",
        "#Risk term for variances of assets  \n",
        "\n",
        "  Risk_Term_1 = np.multiply(weights,standard_deviations)      #Total risk = Risk from Variance terms + Risk from Covariance terms\n",
        "  Risk_Term_1 = np.square(Risk_Term_1)\n",
        "  Risk_Term_1 = sum(Risk_Term_1)      #First term of the risk equation\n",
        "\n",
        "#Risk term for covariances between assets\n",
        "\n",
        "  Risk_Term_2 = 0   #Second term of the risk equation is initially set to 0 and will be updated\n",
        "\n",
        "  for i in range(0,No_of_Assets-1):\n",
        "    for j in range(i+1,No_of_Assets):\n",
        "      Risk_Term_2 = Risk_Term_2 + weights[i]*weights[j]*covariance(Asset_list[i].returns,Asset_list[j].returns,Asset_list[i].avg_return,Asset_list[j].avg_return)\n",
        "  Risk_Term_2 = 2*Risk_Term_2\n",
        "\n",
        "  Total_risk = Risk_Term_1 + Risk_Term_2    #From the risk equation, risk = Term 1 + Term 2\n",
        "\n",
        "  return Total_risk     #Returning the total risk of the portfolio\n",
        "\n"
      ],
      "execution_count": null,
      "outputs": []
    },
    {
      "cell_type": "markdown",
      "metadata": {
        "id": "pzNW31hRQonM"
      },
      "source": [
        "We are trying to build a minimum variance (minimum risk) portfolio. \n",
        "\n",
        "Therefore, the fitness function will be the negative of the portfolio risk and constraint penalties added to it."
      ]
    },
    {
      "cell_type": "code",
      "metadata": {
        "id": "43IHY4cxQ_AZ"
      },
      "source": [
        "def risk_fitness(x):                  #Function to calculate the fitness \n",
        "  penalty1 = 0                     #Penalty factor for the constraints\n",
        "  penalty2 = 0\n",
        "  bad_weight = 0\n",
        "  for weight in x.contents:\n",
        "    if weight < 0:            #The weights have to be non negative, so adding the appropriate penalty for the constraint\n",
        "      penalty1 = 10000000\n",
        "      bad_weight = bad_weight+1\n",
        "  if sum(x.contents) is not 1:    #If the sum of the assets is not 1, then a constraint is violated\n",
        "    penalty2 = 1000000\n",
        "    \n",
        "    return (-portfolio_risk(x) - penalty2*abs(1-sum(x.contents)) - penalty1*bad_weight) #Taking the negative of the risk (as it is a minimization problem) and applying the appropriate constraint penalties\n",
        "  else:\n",
        "    return (-portfolio_risk(x))    #Since it is a minimization problem, we take the negative of the risk as the fitness\n",
        "  \n"
      ],
      "execution_count": null,
      "outputs": []
    },
    {
      "cell_type": "markdown",
      "metadata": {
        "id": "zRpTgNflZ3fi"
      },
      "source": [
        "Function to find out the average fitness and best fitness of the population"
      ]
    },
    {
      "cell_type": "code",
      "metadata": {
        "id": "DDc77WZeZ7zF"
      },
      "source": [
        "def pop_fitness(x):           #Function for calculating the average fitness of the population\n",
        "  avg_pop_fitness = 0\n",
        "  for i in range(0,len(x)):\n",
        "    avg_pop_fitness = avg_pop_fitness + risk_fitness(x[i])\n",
        "  avg_pop_fitness = avg_pop_fitness/len(x)\n",
        "  return avg_pop_fitness        #The average fitness of the population\n",
        "\n",
        "def best_fitness(x):        #Function for calculating the maximum ftness of the population\n",
        "  fitnesses = []\n",
        "  for i in range(0,len(x)):\n",
        "    fitnesses.append(risk_fitness(x[i]))\n",
        "  return max(fitnesses)       #The maximum fitness of the population"
      ],
      "execution_count": null,
      "outputs": []
    },
    {
      "cell_type": "markdown",
      "metadata": {
        "id": "qYhW0C9vY_m3"
      },
      "source": [
        "## Differential Evolution - "
      ]
    },
    {
      "cell_type": "markdown",
      "metadata": {
        "id": "DiYkh1Aurjat"
      },
      "source": [
        "Creating an initial population of portfolios"
      ]
    },
    {
      "cell_type": "code",
      "metadata": {
        "colab": {
          "base_uri": "https://localhost:8080/"
        },
        "id": "xQYoEHzwrraa",
        "outputId": "42f53e28-739a-4778-e5b5-670cac83733c"
      },
      "source": [
        "Portfolio_names = []          #Empty list used to store names of the portfolios which will be converted to class \"Portfolio\"\n",
        "Portfolio_candidates = []     #Empty initial population\n",
        "Pop_size = 10*No_of_Assets    #In Differential Evolution, population size is 10 times the number of variables\n",
        "for i in range(0,Pop_size):\n",
        "  Portfolio_names.append('Portfolio'+ str(i+1))     #Giving name to each portfolio as Portfolio 1, Portfolio 2...\n",
        "for i in range(0,len(Portfolio_names)):\n",
        "  Portfolio_names[i]=Portfolio()                                  #Each portfolio defined as the class object 'Portfolio'\n",
        "  Portfolio_names[i].contents = portfolio_builder(No_of_Assets)     #Each portfolio is distributed the wieghts of the assets randomly\n",
        "  Portfolio_candidates.append(Portfolio_names[i])                   #List of portfolio candidates\n",
        "print(\"The Initial Population is - \")\n",
        "for items in Portfolio_candidates:\n",
        "  print(items.contents)\n",
        "\n"
      ],
      "execution_count": null,
      "outputs": [
        {
          "output_type": "stream",
          "text": [
            "The Initial Population is - \n",
            "[0.3922294141125786, 0.32039468797381304, 0.2873758979136083]\n",
            "[0.7644477659249955, 0.17641058610877255, 0.05914164796623189]\n",
            "[0.46689976741676986, 0.1510277332012376, 0.3820724993819925]\n",
            "[0.25051385260237713, 0.5037682173669553, 0.24571793003066755]\n",
            "[0.9082664984442786, 0.0034817946958058646, 0.08825170685991546]\n",
            "[0.7723618552615898, 0.1694226547603694, 0.05821548997804071]\n",
            "[0.5332392301514425, 0.3917590902953957, 0.07500167955316184]\n",
            "[0.40102214255694313, 0.3400124534956513, 0.25896540394740564]\n",
            "[0.34590682563605957, 0.11505955067943062, 0.5390336236845098]\n",
            "[0.4568914033777497, 0.11226886616449865, 0.4308397304577517]\n",
            "[0.9025941097180842, 0.04503042572562592, 0.05237546455628994]\n",
            "[0.6983216472380808, 0.016963918031565085, 0.2847144347303542]\n",
            "[0.4459763400569947, 0.2216451429101921, 0.3323785170328132]\n",
            "[0.5256729165867093, 0.4603380410127844, 0.013989042400506246]\n",
            "[0.5398932156715316, 0.11746689349977113, 0.3426398908286973]\n",
            "[0.9274486346111066, 0.07046368046956154, 0.002087684919331867]\n",
            "[0.4331542115124333, 0.2398227058492554, 0.32702308263831137]\n",
            "[0.494823566172924, 0.04469286561395938, 0.46048356821311665]\n",
            "[0.3899623688490297, 0.24486605712060533, 0.36517157403036493]\n",
            "[0.1415237709220284, 0.6344086383246521, 0.2240675907533195]\n",
            "[0.9627314084766115, 0.03540500039209584, 0.0018635911312926412]\n",
            "[0.5767445839248413, 0.06877540633006672, 0.354480009745092]\n",
            "[0.006204459165837339, 0.7615768064666898, 0.23221873436747287]\n",
            "[0.5239230543882494, 0.45182101729089286, 0.024255928320857767]\n",
            "[0.573252797151355, 0.3852327728171786, 0.041514430031466376]\n",
            "[0.9380866309244124, 0.03482692729753862, 0.027086441778048975]\n",
            "[0.5052821695292116, 0.1648586869831381, 0.32985914348765033]\n",
            "[0.4927577065513662, 0.45363111237894543, 0.05361118106968843]\n",
            "[0.7532176176321596, 0.1940303355865082, 0.052752046781332274]\n",
            "[0.3311039754047611, 0.4755046530695445, 0.1933913715256944]\n"
          ],
          "name": "stdout"
        }
      ]
    },
    {
      "cell_type": "markdown",
      "metadata": {
        "id": "ub9Hjq7RZXzN"
      },
      "source": [
        "The algorithm will be executed for 1000 generations "
      ]
    },
    {
      "cell_type": "code",
      "metadata": {
        "id": "xOdviWj1WzB8"
      },
      "source": [
        "epsilon = 0.01\n",
        "mutation_factor = 0.05\n",
        "crossover_factor = 0.7\n",
        "best = best_fitness(Portfolio_candidates)   #Initial population best fitness\n",
        "average = pop_fitness(Portfolio_candidates)   #Initial population average fitness\n",
        "\n",
        "\n",
        "#while (best - average > epsilon):\n",
        "for iter in range(0,1000):\n",
        "#while (average < Decimal(0.9)*best):\n",
        "  intermediate_population = Portfolio_candidates                                #Creating the intermediate population for the iteration\n",
        "  for i in range(0,len(intermediate_population)):\n",
        "\n",
        "    #CROSSOVER\n",
        "    Parent1 = random.randint(0,len(intermediate_population)-1)                  #Randomly selecting parent 1 for crossover\n",
        "    Parent2 = random.randint(0,len(intermediate_population)-1)                  #Randomly selecting parent 2 for crossover\n",
        "    while Parent2 is Parent1:                                                   #This loop runs if Parent2 is equal to Parent1 since we need two different parents for crossover\n",
        "      Parent2 = random.randint(0,len(intermediate_population)-1)\n",
        "\n",
        "    intermediate_population[i].contents = np.array(intermediate_population[i].contents)     #Making the contents of the portfolio as an array\n",
        "\n",
        "    exemption = random.randint(0,No_of_Assets)    #starting point of mutation is not crossovered\n",
        "    for point in range(0,No_of_Assets):         #Crossover for all variables\n",
        "      if point is not exemption:\n",
        "        mask = random.random()        #Crossover occurs only where the probability is favourable\n",
        "\n",
        "        if mask <= crossover_factor:\n",
        "          intermediate_population[i].contents[point] = Portfolio_candidates[Parent2].contents[point]    #Parent2 passes down the value of its variable (crossover favourable)\n",
        "        else:\n",
        "          intermediate_population[i].contents[point] = Portfolio_candidates[Parent1].contents[point]    #Child gets variable value of parent1\n",
        "\n",
        "    #MUTATION\n",
        "    Parent_j = random.randint(0,len(intermediate_population)-1)         #Randomly selecting parent_j for mutation\n",
        "    Parent_k = random.randint(0,len(intermediate_population)-1)         #Randomly selecting parent_k for mutation\n",
        "    while Parent_k is Parent_j:                                    #This loop runs if Parent_k is equal to Parent_j since we need two different members for mutation\n",
        "      Parent_k = random.randint(0,len(intermediate_population)-1)\n",
        "\n",
        "    intermediate_population[i].contents = np.array(intermediate_population[i].contents)   #Making the portfolio contents as an array\n",
        "    intermediate_population[i].contents = intermediate_population[i].contents + mutation_factor*(np.array(Portfolio_candidates[Parent_j].contents) - np.array(Portfolio_candidates[Parent_k].contents)) #Vector differential mutation of differential evolution\n",
        "   \n",
        "    #FITNESS COMPARISON\n",
        "    if risk_fitness(intermediate_population[i])>risk_fitness(Portfolio_candidates[i]):      #Comparing the intermediate candidate and the original candidate\n",
        "      Portfolio_candidates[i] = intermediate_population[i]            #Replacing the original by the intermediate if intermediate candidate is fitter\n",
        "\n",
        "  #UPDATING THE POPULATION CHARACTERISTICS\n",
        "  best = best_fitness(Portfolio_candidates)           #Updating the best fitness of the new population\n",
        "  average = pop_fitness(Portfolio_candidates)         #Updating the average fitness of the new population\n",
        "\n"
      ],
      "execution_count": null,
      "outputs": []
    },
    {
      "cell_type": "markdown",
      "metadata": {
        "id": "cht0SusPWojd"
      },
      "source": [
        "After the algorithm has found out the fittest population, we will obtain the fittest individual (our optimal portfolio)"
      ]
    },
    {
      "cell_type": "code",
      "metadata": {
        "colab": {
          "base_uri": "https://localhost:8080/"
        },
        "id": "Wtm9LONFvqVL",
        "outputId": "556e2c6f-355d-4568-ba15-4ec6779d95eb"
      },
      "source": [
        "fittest_portfolio = 0\n",
        "max_fitness = 0\n",
        "for i in range(0,len(Portfolio_candidates)):                    #Loop for finding out the index of the fittest portfolio candidate solution\n",
        "  if risk_fitness(Portfolio_candidates[i])>max_fitness:\n",
        "    max_fitness = risk_fitness(Portfolio_candidates[i])\n",
        "    fittest_portfolio = i\n",
        "\n",
        "print(\"The final population is : \")           #Printing out the final population\n",
        "for items in Portfolio_candidates:\n",
        "  print(items.contents, end =\" \")\n",
        "  print('\\n')\n",
        "\n",
        "print(\"The average fitness is : \")                \n",
        "print(pop_fitness(Portfolio_candidates))        #Printing out the average fitness of the population\n",
        "\n",
        "print(\"\\n The Best fitness is : \")\n",
        "print(best_fitness(Portfolio_candidates))         #Printing out the maximum (best) fitness of the population\n",
        "\n",
        "\n",
        "print(\"\\n The weights of the assets in the best portfolio is: \")\n",
        "print(Portfolio_candidates[fittest_portfolio].contents)             #Printing out the weights of the assets in the best portfolio\n",
        "\n",
        "for i in range(0,No_of_Assets):\n",
        "  print(\"\\n Weightage of \", end =\" \") \n",
        "  print(Asset_list[i].name, end =\" \") \n",
        "  print(\"in your portfolio should be \")\n",
        "  print(Portfolio_candidates[fittest_portfolio].contents[i])      #Printing the weights of the assets in the best portfolio one by one\n",
        "\n"
      ],
      "execution_count": null,
      "outputs": [
        {
          "output_type": "stream",
          "text": [
            "The final population is : \n",
            "[0.87283569 0.02893058 0.39016576] \n",
            "\n",
            "[0.87283569 0.02893058 0.39016576] \n",
            "\n",
            "[0.87283569 0.02893058 0.39016576] \n",
            "\n",
            "[0.87283569 0.02893058 0.39016576] \n",
            "\n",
            "[0.87283569 0.02893058 0.39016576] \n",
            "\n",
            "[0.87283569 0.02893058 0.39016576] \n",
            "\n",
            "[0.87283569 0.02893058 0.39016576] \n",
            "\n",
            "[0.87283569 0.02893058 0.39016576] \n",
            "\n",
            "[0.87283569 0.02893058 0.39016576] \n",
            "\n",
            "[0.87283569 0.02893058 0.39016576] \n",
            "\n",
            "[0.87283569 0.02893058 0.39016576] \n",
            "\n",
            "[0.87283569 0.02893058 0.39016576] \n",
            "\n",
            "[0.87283569 0.02893058 0.39016576] \n",
            "\n",
            "[0.87283569 0.02893058 0.39016576] \n",
            "\n",
            "[0.87283569 0.02893058 0.39016576] \n",
            "\n",
            "[0.87283569 0.02893058 0.39016576] \n",
            "\n",
            "[0.87283569 0.02893058 0.39016576] \n",
            "\n",
            "[0.87283569 0.02893058 0.39016576] \n",
            "\n",
            "[0.87283569 0.02893058 0.39016576] \n",
            "\n",
            "[0.87283569 0.02893058 0.39016576] \n",
            "\n",
            "[0.87283569 0.02893058 0.39016576] \n",
            "\n",
            "[0.87283569 0.02893058 0.39016576] \n",
            "\n",
            "[0.87283569 0.02893058 0.39016576] \n",
            "\n",
            "[0.87283569 0.02893058 0.39016576] \n",
            "\n",
            "[0.87283569 0.02893058 0.39016576] \n",
            "\n",
            "[0.87283569 0.02893058 0.39016576] \n",
            "\n",
            "[0.87283569 0.02893058 0.39016576] \n",
            "\n",
            "[0.87283569 0.02893058 0.39016576] \n",
            "\n",
            "[0.87283569 0.02893058 0.39016576] \n",
            "\n",
            "[0.87283569 0.02893058 0.39016576] \n",
            "\n",
            "The average fitness is : \n",
            "-291932.0357599242\n",
            "\n",
            " The Best fitness is : \n",
            "-291932.0357599243\n",
            "\n",
            " The weights of the assets in the best portfolio is: \n",
            "[0.87283569 0.02893058 0.39016576]\n",
            "\n",
            " Weightage of  Stocks in your portfolio should be \n",
            "0.8728356913680522\n",
            "\n",
            " Weightage of  Gold in your portfolio should be \n",
            "0.028930584364913855\n",
            "\n",
            " Weightage of  Silver in your portfolio should be \n",
            "0.3901657564353916\n"
          ],
          "name": "stdout"
        }
      ]
    }
  ]
}